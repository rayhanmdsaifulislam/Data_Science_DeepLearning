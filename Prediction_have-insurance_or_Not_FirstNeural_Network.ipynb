{
 "cells": [
  {
   "cell_type": "code",
   "execution_count": 11,
   "metadata": {},
   "outputs": [],
   "source": [
    "#Importing packages\n",
    "import pandas as pd\n",
    "import numpy as np\n",
    "import seaborn as sns\n",
    "import matplotlib.pyplot as plt\n",
    "%matplotlib inline"
   ]
  },
  {
   "cell_type": "code",
   "execution_count": 12,
   "metadata": {},
   "outputs": [],
   "source": [
    "#Reading CSV\n",
    "dataFrame=pd.read_csv(r\"C:\\Users\\moham\\PycharmProjects\\Deep Learning\\insurance_data.csv\")"
   ]
  },
  {
   "cell_type": "code",
   "execution_count": 13,
   "metadata": {},
   "outputs": [
    {
     "data": {
      "text/html": [
       "<div>\n",
       "<style scoped>\n",
       "    .dataframe tbody tr th:only-of-type {\n",
       "        vertical-align: middle;\n",
       "    }\n",
       "\n",
       "    .dataframe tbody tr th {\n",
       "        vertical-align: top;\n",
       "    }\n",
       "\n",
       "    .dataframe thead th {\n",
       "        text-align: right;\n",
       "    }\n",
       "</style>\n",
       "<table border=\"1\" class=\"dataframe\">\n",
       "  <thead>\n",
       "    <tr style=\"text-align: right;\">\n",
       "      <th></th>\n",
       "      <th>age</th>\n",
       "      <th>affordability</th>\n",
       "      <th>have_insurance</th>\n",
       "    </tr>\n",
       "  </thead>\n",
       "  <tbody>\n",
       "    <tr>\n",
       "      <td>0</td>\n",
       "      <td>22</td>\n",
       "      <td>1</td>\n",
       "      <td>0</td>\n",
       "    </tr>\n",
       "    <tr>\n",
       "      <td>1</td>\n",
       "      <td>25</td>\n",
       "      <td>0</td>\n",
       "      <td>0</td>\n",
       "    </tr>\n",
       "    <tr>\n",
       "      <td>2</td>\n",
       "      <td>47</td>\n",
       "      <td>1</td>\n",
       "      <td>1</td>\n",
       "    </tr>\n",
       "    <tr>\n",
       "      <td>3</td>\n",
       "      <td>52</td>\n",
       "      <td>0</td>\n",
       "      <td>0</td>\n",
       "    </tr>\n",
       "    <tr>\n",
       "      <td>4</td>\n",
       "      <td>46</td>\n",
       "      <td>1</td>\n",
       "      <td>1</td>\n",
       "    </tr>\n",
       "  </tbody>\n",
       "</table>\n",
       "</div>"
      ],
      "text/plain": [
       "   age  affordability  have_insurance\n",
       "0   22              1               0\n",
       "1   25              0               0\n",
       "2   47              1               1\n",
       "3   52              0               0\n",
       "4   46              1               1"
      ]
     },
     "execution_count": 13,
     "metadata": {},
     "output_type": "execute_result"
    }
   ],
   "source": [
    "dataFrame.head()"
   ]
  },
  {
   "cell_type": "code",
   "execution_count": 14,
   "metadata": {},
   "outputs": [
    {
     "name": "stdout",
     "output_type": "stream",
     "text": [
      "Max Age 62\n",
      "Min Age 18\n"
     ]
    },
    {
     "data": {
      "image/png": "[encoded data removed]",
      "text/plain": [
       "<Figure size 432x288 with 1 Axes>"
      ]
     },
     "metadata": {
      "needs_background": "light"
     },
     "output_type": "display_data"
    },
    {
     "data": {
      "text/plain": [
       "<Figure size 432x288 with 0 Axes>"
      ]
     },
     "metadata": {},
     "output_type": "display_data"
    },
    {
     "data": {
      "image/png": "[encoded data removed]",
      "text/plain": [
       "<Figure size 432x432 with 3 Axes>"
      ]
     },
     "metadata": {
      "needs_background": "light"
     },
     "output_type": "display_data"
    }
   ],
   "source": [
    "#Plotting \n",
    "plt.figure(1)\n",
    "sns.boxplot(y=dataFrame['age'])\n",
    "plt.figure(2)\n",
    "#plt.scatter(x=dataFrame['age'], y=dataFrame['affordability'])\n",
    "sns.jointplot(x=dataFrame['age'], y=dataFrame['affordability'])\n",
    "print(\"Max Age\",+np.max(dataFrame['age']))\n",
    "print(\"Min Age\",+np.min(dataFrame['age']))"
   ]
  },
  {
   "cell_type": "code",
   "execution_count": 15,
   "metadata": {},
   "outputs": [],
   "source": [
    "#Import package for SkLearn operation train test and split\n",
    "from sklearn.model_selection import train_test_split\n",
    "X_train, X_test, y_train, y_test=train_test_split(dataFrame[['age','affordability']], dataFrame.have_insurance, test_size=0.2, random_state=10)\n"
   ]
  },
  {
   "cell_type": "code",
   "execution_count": 16,
   "metadata": {},
   "outputs": [],
   "source": [
    "#Scalling For the More accurate result\n",
    "X_train_scaled=X_train.copy()\n",
    "X_train_scaled['age']=X_train_scaled['age']/100\n",
    "X_test_scaled=X_test.copy()\n",
    "X_test_scaled['age']=X_test_scaled['age']/100"
   ]
  },
  {
   "cell_type": "code",
   "execution_count": 17,
   "metadata": {},
   "outputs": [
    {
     "data": {
      "text/plain": [
       "array([[0.  , 0.55],\n",
       "       [0.62, 1.  ],\n",
       "       [0.47, 1.  ],\n",
       "       [0.  , 0.27],\n",
       "       [0.56, 1.  ],\n",
       "       [0.18, 1.  ],\n",
       "       [0.  , 0.25],\n",
       "       [0.22, 1.  ],\n",
       "       [0.46, 1.  ],\n",
       "       [0.61, 1.  ]])"
      ]
     },
     "execution_count": 17,
     "metadata": {},
     "output_type": "execute_result"
    }
   ],
   "source": [
    "np.sort(X_train_scaled)"
   ]
  },
  {
   "cell_type": "code",
   "execution_count": 19,
   "metadata": {},
   "outputs": [
    {
     "name": "stdout",
     "output_type": "stream",
     "text": [
      "Train on 10 samples\n",
      "Epoch 1/50\n",
      "10/10 [==============================] - 0s 39ms/sample - loss: 0.6565 - accuracy: 0.5000\n",
      "Epoch 2/50\n",
      "10/10 [==============================] - 0s 200us/sample - loss: 0.6561 - accuracy: 0.5000\n",
      "Epoch 3/50\n",
      "10/10 [==============================] - 0s 200us/sample - loss: 0.6558 - accuracy: 0.5000\n",
      "Epoch 4/50\n",
      "10/10 [==============================] - 0s 400us/sample - loss: 0.6554 - accuracy: 0.5000\n",
      "Epoch 5/50\n",
      "10/10 [==============================] - 0s 200us/sample - loss: 0.6550 - accuracy: 0.5000\n",
      "Epoch 6/50\n",
      "10/10 [==============================] - 0s 200us/sample - loss: 0.6547 - accuracy: 0.5000\n",
      "Epoch 7/50\n",
      "10/10 [==============================] - 0s 100us/sample - loss: 0.6543 - accuracy: 0.5000\n",
      "Epoch 8/50\n",
      "10/10 [==============================] - 0s 100us/sample - loss: 0.6540 - accuracy: 0.5000\n",
      "Epoch 9/50\n",
      "10/10 [==============================] - 0s 300us/sample - loss: 0.6536 - accuracy: 0.5000\n",
      "Epoch 10/50\n",
      "10/10 [==============================] - 0s 300us/sample - loss: 0.6533 - accuracy: 0.5000\n",
      "Epoch 11/50\n",
      "10/10 [==============================] - 0s 200us/sample - loss: 0.6530 - accuracy: 0.5000\n",
      "Epoch 12/50\n",
      "10/10 [==============================] - 0s 200us/sample - loss: 0.6526 - accuracy: 0.5000\n",
      "Epoch 13/50\n",
      "10/10 [==============================] - 0s 199us/sample - loss: 0.6523 - accuracy: 0.5000\n",
      "Epoch 14/50\n",
      "10/10 [==============================] - 0s 200us/sample - loss: 0.6519 - accuracy: 0.5000\n",
      "Epoch 15/50\n",
      "10/10 [==============================] - 0s 300us/sample - loss: 0.6516 - accuracy: 0.5000\n",
      "Epoch 16/50\n",
      "10/10 [==============================] - 0s 298us/sample - loss: 0.6512 - accuracy: 0.5000\n",
      "Epoch 17/50\n",
      "10/10 [==============================] - 0s 200us/sample - loss: 0.6509 - accuracy: 0.5000\n",
      "Epoch 18/50\n",
      "10/10 [==============================] - 0s 300us/sample - loss: 0.6506 - accuracy: 0.5000\n",
      "Epoch 19/50\n",
      "10/10 [==============================] - 0s 300us/sample - loss: 0.6502 - accuracy: 0.5000\n",
      "Epoch 20/50\n",
      "10/10 [==============================] - 0s 301us/sample - loss: 0.6499 - accuracy: 0.5000\n",
      "Epoch 21/50\n",
      "10/10 [==============================] - 0s 200us/sample - loss: 0.6495 - accuracy: 0.5000\n",
      "Epoch 22/50\n",
      "10/10 [==============================] - 0s 201us/sample - loss: 0.6492 - accuracy: 0.5000\n",
      "Epoch 23/50\n",
      "10/10 [==============================] - 0s 300us/sample - loss: 0.6489 - accuracy: 0.5000\n",
      "Epoch 24/50\n",
      "10/10 [==============================] - 0s 200us/sample - loss: 0.6485 - accuracy: 0.5000\n",
      "Epoch 25/50\n",
      "10/10 [==============================] - 0s 200us/sample - loss: 0.6482 - accuracy: 0.5000\n",
      "Epoch 26/50\n",
      "10/10 [==============================] - 0s 200us/sample - loss: 0.6479 - accuracy: 0.5000\n",
      "Epoch 27/50\n",
      "10/10 [==============================] - 0s 200us/sample - loss: 0.6475 - accuracy: 0.5000\n",
      "Epoch 28/50\n",
      "10/10 [==============================] - 0s 400us/sample - loss: 0.6472 - accuracy: 0.5000\n",
      "Epoch 29/50\n",
      "10/10 [==============================] - 0s 300us/sample - loss: 0.6469 - accuracy: 0.5000\n",
      "Epoch 30/50\n",
      "10/10 [==============================] - 0s 200us/sample - loss: 0.6465 - accuracy: 0.5000\n",
      "Epoch 31/50\n",
      "10/10 [==============================] - 0s 200us/sample - loss: 0.6462 - accuracy: 0.5000\n",
      "Epoch 32/50\n",
      "10/10 [==============================] - 0s 200us/sample - loss: 0.6459 - accuracy: 0.5000\n",
      "Epoch 33/50\n",
      "10/10 [==============================] - 0s 300us/sample - loss: 0.6456 - accuracy: 0.5000\n",
      "Epoch 34/50\n",
      "10/10 [==============================] - 0s 300us/sample - loss: 0.6452 - accuracy: 0.5000\n",
      "Epoch 35/50\n",
      "10/10 [==============================] - 0s 200us/sample - loss: 0.6449 - accuracy: 0.5000\n",
      "Epoch 36/50\n",
      "10/10 [==============================] - 0s 200us/sample - loss: 0.6446 - accuracy: 0.5000\n",
      "Epoch 37/50\n",
      "10/10 [==============================] - 0s 300us/sample - loss: 0.6443 - accuracy: 0.5000\n",
      "Epoch 38/50\n",
      "10/10 [==============================] - 0s 300us/sample - loss: 0.6440 - accuracy: 0.5000\n",
      "Epoch 39/50\n",
      "10/10 [==============================] - 0s 300us/sample - loss: 0.6436 - accuracy: 0.5000\n",
      "Epoch 40/50\n",
      "10/10 [==============================] - 0s 200us/sample - loss: 0.6433 - accuracy: 0.5000\n",
      "Epoch 41/50\n",
      "10/10 [==============================] - 0s 300us/sample - loss: 0.6430 - accuracy: 0.5000\n",
      "Epoch 42/50\n",
      "10/10 [==============================] - 0s 200us/sample - loss: 0.6427 - accuracy: 0.5000\n",
      "Epoch 43/50\n",
      "10/10 [==============================] - 0s 300us/sample - loss: 0.6424 - accuracy: 0.5000\n",
      "Epoch 44/50\n",
      "10/10 [==============================] - 0s 200us/sample - loss: 0.6421 - accuracy: 0.5000\n",
      "Epoch 45/50\n",
      "10/10 [==============================] - 0s 200us/sample - loss: 0.6418 - accuracy: 0.5000\n",
      "Epoch 46/50\n",
      "10/10 [==============================] - 0s 200us/sample - loss: 0.6415 - accuracy: 0.5000\n",
      "Epoch 47/50\n",
      "10/10 [==============================] - 0s 300us/sample - loss: 0.6411 - accuracy: 0.5000\n",
      "Epoch 48/50\n",
      "10/10 [==============================] - 0s 200us/sample - loss: 0.6408 - accuracy: 0.5000\n",
      "Epoch 49/50\n",
      "10/10 [==============================] - 0s 200us/sample - loss: 0.6405 - accuracy: 0.5000\n",
      "Epoch 50/50\n",
      "10/10 [==============================] - 0s 200us/sample - loss: 0.6402 - accuracy: 0.5000\n"
     ]
    },
    {
     "data": {
      "text/plain": [
       "<tensorflow.python.keras.callbacks.History at 0x191d93e4e08>"
      ]
     },
     "execution_count": 19,
     "metadata": {},
     "output_type": "execute_result"
    }
   ],
   "source": [
    "#Building a Sequential Model\n",
    "import tensorflow as tf\n",
    "from tensorflow import keras\n",
    "model = keras.Sequential([\n",
    "    keras.layers.Dense(1, input_shape=(2,), activation='sigmoid', kernel_initializer='ones', bias_initializer='zeros')\n",
    "])\n",
    "\n",
    "model.compile(optimizer='adam',\n",
    "              loss='binary_crossentropy',\n",
    "              metrics=['accuracy'])\n",
    "\n",
    "model.fit(X_train_scaled, y_train, epochs=50)"
   ]
  },
  {
   "cell_type": "code",
   "execution_count": 20,
   "metadata": {},
   "outputs": [
    {
     "name": "stdout",
     "output_type": "stream",
     "text": [
      "\r",
      "3/3 [==============================] - 0s 36ms/sample - loss: 25.6455 - accuracy: 0.3333\n"
     ]
    },
    {
     "data": {
      "text/plain": [
       "[25.645523071289062, 0.33333334]"
      ]
     },
     "execution_count": 20,
     "metadata": {},
     "output_type": "execute_result"
    }
   ],
   "source": [
    "model.evaluate(X_test, y_test)"
   ]
  },
  {
   "cell_type": "code",
   "execution_count": 21,
   "metadata": {},
   "outputs": [],
   "source": [
    "coef,intercept=model.get_weights()"
   ]
  },
  {
   "cell_type": "code",
   "execution_count": 22,
   "metadata": {},
   "outputs": [
    {
     "data": {
      "text/plain": [
       "(array([[0.95105344],\n",
       "        [0.9513509 ]], dtype=float32), array([-0.04953126], dtype=float32))"
      ]
     },
     "execution_count": 22,
     "metadata": {},
     "output_type": "execute_result"
    }
   ],
   "source": [
    "#Get weight and bias\n",
    "coef,intercept"
   ]
  },
  {
   "cell_type": "code",
   "execution_count": null,
   "metadata": {},
   "outputs": [],
   "source": []
  }
 ],
 "metadata": {
  "kernelspec": {
   "display_name": "Python 3",
   "language": "python",
   "name": "python3"
  },
  "language_info": {
   "codemirror_mode": {
    "name": "ipython",
    "version": 3
   },
   "file_extension": ".py",
   "mimetype": "text/x-python",
   "name": "python",
   "nbconvert_exporter": "python",
   "pygments_lexer": "ipython3",
   "version": "3.7.4"
  }
 },
 "nbformat": 4,
 "nbformat_minor": 2
}
